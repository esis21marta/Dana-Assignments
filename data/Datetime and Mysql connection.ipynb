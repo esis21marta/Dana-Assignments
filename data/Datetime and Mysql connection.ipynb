{
 "cells": [
  {
   "cell_type": "code",
   "execution_count": 1,
   "metadata": {},
   "outputs": [
    {
     "data": {
      "text/html": [
       "        <script type=\"text/javascript\">\n",
       "        window.PlotlyConfig = {MathJaxConfig: 'local'};\n",
       "        if (window.MathJax) {MathJax.Hub.Config({SVG: {font: \"STIX-Web\"}});}\n",
       "        if (typeof require !== 'undefined') {\n",
       "        require.undef(\"plotly\");\n",
       "        requirejs.config({\n",
       "            paths: {\n",
       "                'plotly': ['https://cdn.plot.ly/plotly-2.9.0.min']\n",
       "            }\n",
       "        });\n",
       "        require(['plotly'], function(Plotly) {\n",
       "            window._Plotly = Plotly;\n",
       "        });\n",
       "        }\n",
       "        </script>\n",
       "        "
      ]
     },
     "metadata": {},
     "output_type": "display_data"
    }
   ],
   "source": [
    "import numpy as np\n",
    "import pandas as pd\n",
    "import matplotlib.pyplot as plt\n",
    "import seaborn as sns\n",
    "import statsmodels.api as sm\n",
    "import datetime\n",
    "import sklearn\n",
    "import itertools\n",
    "import warnings\n",
    "import datetime\n",
    "import os\n",
    "import io\n",
    "import plotly.offline as py #visualization\n",
    "import plotly.graph_objs as go #visualization\n",
    "import plotly.tools as tls #visualization\n",
    "import plotly.figure_factory as ff #visualization\n",
    "from pylab import rcParams\n",
    "from typing import Dict, List, Optional, Tuple, Union\n",
    "from tqdm import tqdm\n",
    "from IPython.display import Image\n",
    "from category_encoders import CountEncoder\n",
    "from prince import FAMD,MCA,PCA\n",
    "from matplotlib.colors import ListedColormap\n",
    "from matplotlib import pyplot\n",
    "from optbinning import OptimalBinning\n",
    "from collections import Counter\n",
    "from copy import deepcopy\n",
    "from random import sample\n",
    "from catboost import CatBoostClassifier, CatBoostRegressor, Pool\n",
    "from xgboost import XGBRegressor, XGBClassifier, plot_importance\n",
    "from __future__ import print_function\n",
    "from statsmodels.stats.outliers_influence import variance_inflation_factor\n",
    "from statsmodels.tsa.stattools import adfuller\n",
    "from statsmodels.tools.tools import add_constant\n",
    "from statsmodels.regression.linear_model import OLS\n",
    "from sklearn import metrics\n",
    "from sklearn import model_selection\n",
    "from sklearn.pipeline import make_pipeline\n",
    "from sklearn.manifold import TSNE\n",
    "from sklearn.preprocessing import MinMaxScaler, OneHotEncoder, StandardScaler, label_binarize\n",
    "from sklearn.decomposition import PCA as skPCA, TruncatedSVD\n",
    "from sklearn.model_selection import train_test_split, KFold, StratifiedKFold, ParameterGrid, cross_val_score, GridSearchCV, RandomizedSearchCV\n",
    "from sklearn.feature_selection import SelectKBest, chi2\n",
    "from sklearn.calibration import CalibratedClassifierCV, calibration_curve, _CalibratedClassifier\n",
    "from sklearn.linear_model import LinearRegression, LogisticRegression, SGDClassifier\n",
    "from sklearn.naive_bayes import GaussianNB\n",
    "from sklearn.svm import LinearSVC\n",
    "from sklearn.tree import DecisionTreeClassifier\n",
    "from sklearn.ensemble import RandomForestRegressor, RandomForestClassifier, GradientBoostingClassifier,RandomForestClassifier,BaggingClassifier,AdaBoostClassifier\n",
    "from sklearn.cluster import KMeans\n",
    "from sklearn.metrics import brier_score_loss, r2_score, precision_score, recall_score, f1_score, roc_auc_score \n",
    "from sklearn.metrics import accuracy_score, classification_report,average_precision_score,accuracy_score\n",
    "from sklearn.metrics import confusion_matrix,roc_auc_score, precision_recall_curve,roc_curve, confusion_matrix\n",
    "from sklearn.metrics import classification_report, silhouette_score\n",
    "from sklearn.exceptions import ConvergenceWarning\n",
    "from sklearn.utils._testing import ignore_warnings\n",
    "warnings.filterwarnings(\"ignore\")\n",
    "py.init_notebook_mode(connected=True) #visualization\n",
    "%matplotlib inline\n",
    "pd.options.display.max_rows = 200\n",
    "pd.options.display.max_columns = 200"
   ]
  },
  {
   "cell_type": "markdown",
   "metadata": {},
   "source": [
    "# Python - Datetime"
   ]
  },
  {
   "cell_type": "code",
   "execution_count": 9,
   "metadata": {},
   "outputs": [
    {
     "data": {
      "text/html": [
       "<div>\n",
       "<style scoped>\n",
       "    .dataframe tbody tr th:only-of-type {\n",
       "        vertical-align: middle;\n",
       "    }\n",
       "\n",
       "    .dataframe tbody tr th {\n",
       "        vertical-align: top;\n",
       "    }\n",
       "\n",
       "    .dataframe thead th {\n",
       "        text-align: right;\n",
       "    }\n",
       "</style>\n",
       "<table border=\"1\" class=\"dataframe\">\n",
       "  <thead>\n",
       "    <tr style=\"text-align: right;\">\n",
       "      <th></th>\n",
       "      <th>user_id</th>\n",
       "      <th>is_premium_user</th>\n",
       "      <th>last_trx_date</th>\n",
       "    </tr>\n",
       "  </thead>\n",
       "  <tbody>\n",
       "    <tr>\n",
       "      <th>0</th>\n",
       "      <td>3057801831</td>\n",
       "      <td>0</td>\n",
       "      <td>2019-02-20</td>\n",
       "    </tr>\n",
       "  </tbody>\n",
       "</table>\n",
       "</div>"
      ],
      "text/plain": [
       "      user_id  is_premium_user last_trx_date\n",
       "0  3057801831                0    2019-02-20"
      ]
     },
     "execution_count": 9,
     "metadata": {},
     "output_type": "execute_result"
    }
   ],
   "source": [
    "user_data = pd.read_csv('user_data.csv',delimiter=',')\n",
    "test_data = pd.read_csv('test_data.csv',delimiter=',')\n",
    "data = pd.merge(user_data,test_data,how = 'left',on='user_id',)\n",
    "data['last_trx_date'] = pd.to_datetime(data['last_trx_date'])\n",
    "data = data.dropna()\n",
    "data.head(1)"
   ]
  },
  {
   "cell_type": "code",
   "execution_count": 13,
   "metadata": {},
   "outputs": [
    {
     "data": {
      "text/plain": [
       "1550620800.0"
      ]
     },
     "execution_count": 13,
     "metadata": {},
     "output_type": "execute_result"
    }
   ],
   "source": [
    "data['last_trx_date'][0].timestamp()"
   ]
  },
  {
   "cell_type": "code",
   "execution_count": 3,
   "metadata": {},
   "outputs": [],
   "source": [
    "def generate_dates(df:pd.DataFrame,col:str):\n",
    "    df[çol] = pd.to_datetime(df[col])\n",
    "    df['unixtimestamp_seconds'] = [num.timestamp() for num in df[col]]\n",
    "    df['unixtimestamp_minutes'] = df['unixtimestamp_seconds']/60\n",
    "    df['unixtimestamp_hours'] = df['unixtimestamp_minutes']/60\n",
    "    df['unixtimestamp_days'] = df['unixtimestamp_hours']/24    \n",
    "    df['year'] = [pd.to_datetime(num).strftime(\"%Y\") for num in df[col]]\n",
    "    df['month'] = [pd.to_datetime(num).strftime(\"%m\") for num in df[col]]\n",
    "    df['name_of_month'] = [pd.to_datetime(num).strftime(\"%b\") for num in df[col]]    \n",
    "    df['day_of_month'] = [pd.to_datetime(num).strftime(\"%d\") for num in df[col]]\n",
    "    df['hour_clock'] = [pd.to_datetime(num).strftime(\"%H\") for num in df[col]]\n",
    "    df['name_of_weekday'] = [datetime.datetime.fromisoformat(str(num)).strftime(\"%A\") for num in df[col]]\n",
    "    df['number_of_weekday'] = [pd.to_datetime(num).strftime(\"%w\") for num in df[col]]\n",
    "    df['week_number_of_year'] = [pd.to_datetime(num).strftime(\"%W\") for num in df[col]]\n",
    "    df['date_days_hour'] = df['year']+df['month']+df['day_of_month']+df['hour_clock']\n",
    "    df['date_days'] = df['year']+df['month']+df['day_of_month']\n",
    "    df['year_month'] = df['year']+df['month']\n",
    "    df['year_week_day'] = df['year']+df['week_number_of_year']+df['number_of_weekday']\n",
    "    #maksimal days to churns\n",
    "    df['date_20days_after'] = pd.to_datetime(df[col])+datetime.timedelta(days=20)\n",
    "    df['running_full_dates'] = datetime.datetime.today()\n",
    "    df['diff_days'] = np.round([num.total_seconds()/(3600*24) for num in (df['running_full_dates']-df['date_20days_after'])])\n",
    "    df['running_date'] = pd.to_datetime(datetime.date.today().strftime(\"%Y-%m-%d\"))\n",
    "    return df"
   ]
  },
  {
   "cell_type": "code",
   "execution_count": 49,
   "metadata": {},
   "outputs": [
    {
     "data": {
      "text/html": [
       "<div>\n",
       "<style scoped>\n",
       "    .dataframe tbody tr th:only-of-type {\n",
       "        vertical-align: middle;\n",
       "    }\n",
       "\n",
       "    .dataframe tbody tr th {\n",
       "        vertical-align: top;\n",
       "    }\n",
       "\n",
       "    .dataframe thead th {\n",
       "        text-align: right;\n",
       "    }\n",
       "</style>\n",
       "<table border=\"1\" class=\"dataframe\">\n",
       "  <thead>\n",
       "    <tr style=\"text-align: right;\">\n",
       "      <th></th>\n",
       "      <th>unique_date</th>\n",
       "      <th>unixtimestamp_seconds</th>\n",
       "      <th>unixtimestamp_minutes</th>\n",
       "      <th>unixtimestamp_hours</th>\n",
       "      <th>unixtimestamp_days</th>\n",
       "      <th>year</th>\n",
       "      <th>month</th>\n",
       "      <th>name_of_month</th>\n",
       "      <th>day_of_month</th>\n",
       "      <th>hour_clock</th>\n",
       "      <th>name_of_weekday</th>\n",
       "      <th>number_of_weekday</th>\n",
       "      <th>week_number_of_year</th>\n",
       "      <th>year_month</th>\n",
       "      <th>year_week_day</th>\n",
       "      <th>date_20days_after</th>\n",
       "      <th>running_full_dates</th>\n",
       "      <th>diff_days</th>\n",
       "      <th>running_date</th>\n",
       "    </tr>\n",
       "  </thead>\n",
       "  <tbody>\n",
       "    <tr>\n",
       "      <th>0</th>\n",
       "      <td>2012-10-01 00:00:00</td>\n",
       "      <td>1.349050e+09</td>\n",
       "      <td>22484160.0</td>\n",
       "      <td>374736.0</td>\n",
       "      <td>15614.000000</td>\n",
       "      <td>2012</td>\n",
       "      <td>10</td>\n",
       "      <td>Oct</td>\n",
       "      <td>01</td>\n",
       "      <td>00</td>\n",
       "      <td>Monday</td>\n",
       "      <td>1</td>\n",
       "      <td>40</td>\n",
       "      <td>201210</td>\n",
       "      <td>2012401</td>\n",
       "      <td>2012-10-21 00:00:00</td>\n",
       "      <td>2021-12-01 23:55:51.257616</td>\n",
       "      <td>3329.0</td>\n",
       "      <td>2021-12-01</td>\n",
       "    </tr>\n",
       "    <tr>\n",
       "      <th>1</th>\n",
       "      <td>2012-10-01 01:00:00</td>\n",
       "      <td>1.349053e+09</td>\n",
       "      <td>22484220.0</td>\n",
       "      <td>374737.0</td>\n",
       "      <td>15614.041667</td>\n",
       "      <td>2012</td>\n",
       "      <td>10</td>\n",
       "      <td>Oct</td>\n",
       "      <td>01</td>\n",
       "      <td>01</td>\n",
       "      <td>Monday</td>\n",
       "      <td>1</td>\n",
       "      <td>40</td>\n",
       "      <td>201210</td>\n",
       "      <td>2012401</td>\n",
       "      <td>2012-10-21 01:00:00</td>\n",
       "      <td>2021-12-01 23:55:51.257616</td>\n",
       "      <td>3329.0</td>\n",
       "      <td>2021-12-01</td>\n",
       "    </tr>\n",
       "    <tr>\n",
       "      <th>2</th>\n",
       "      <td>2012-10-01 02:00:00</td>\n",
       "      <td>1.349057e+09</td>\n",
       "      <td>22484280.0</td>\n",
       "      <td>374738.0</td>\n",
       "      <td>15614.083333</td>\n",
       "      <td>2012</td>\n",
       "      <td>10</td>\n",
       "      <td>Oct</td>\n",
       "      <td>01</td>\n",
       "      <td>02</td>\n",
       "      <td>Monday</td>\n",
       "      <td>1</td>\n",
       "      <td>40</td>\n",
       "      <td>201210</td>\n",
       "      <td>2012401</td>\n",
       "      <td>2012-10-21 02:00:00</td>\n",
       "      <td>2021-12-01 23:55:51.257616</td>\n",
       "      <td>3329.0</td>\n",
       "      <td>2021-12-01</td>\n",
       "    </tr>\n",
       "    <tr>\n",
       "      <th>3</th>\n",
       "      <td>2012-10-01 03:00:00</td>\n",
       "      <td>1.349060e+09</td>\n",
       "      <td>22484340.0</td>\n",
       "      <td>374739.0</td>\n",
       "      <td>15614.125000</td>\n",
       "      <td>2012</td>\n",
       "      <td>10</td>\n",
       "      <td>Oct</td>\n",
       "      <td>01</td>\n",
       "      <td>03</td>\n",
       "      <td>Monday</td>\n",
       "      <td>1</td>\n",
       "      <td>40</td>\n",
       "      <td>201210</td>\n",
       "      <td>2012401</td>\n",
       "      <td>2012-10-21 03:00:00</td>\n",
       "      <td>2021-12-01 23:55:51.257616</td>\n",
       "      <td>3329.0</td>\n",
       "      <td>2021-12-01</td>\n",
       "    </tr>\n",
       "    <tr>\n",
       "      <th>4</th>\n",
       "      <td>2012-10-01 04:00:00</td>\n",
       "      <td>1.349064e+09</td>\n",
       "      <td>22484400.0</td>\n",
       "      <td>374740.0</td>\n",
       "      <td>15614.166667</td>\n",
       "      <td>2012</td>\n",
       "      <td>10</td>\n",
       "      <td>Oct</td>\n",
       "      <td>01</td>\n",
       "      <td>04</td>\n",
       "      <td>Monday</td>\n",
       "      <td>1</td>\n",
       "      <td>40</td>\n",
       "      <td>201210</td>\n",
       "      <td>2012401</td>\n",
       "      <td>2012-10-21 04:00:00</td>\n",
       "      <td>2021-12-01 23:55:51.257616</td>\n",
       "      <td>3329.0</td>\n",
       "      <td>2021-12-01</td>\n",
       "    </tr>\n",
       "  </tbody>\n",
       "</table>\n",
       "</div>"
      ],
      "text/plain": [
       "          unique_date  unixtimestamp_seconds  unixtimestamp_minutes  \\\n",
       "0 2012-10-01 00:00:00           1.349050e+09             22484160.0   \n",
       "1 2012-10-01 01:00:00           1.349053e+09             22484220.0   \n",
       "2 2012-10-01 02:00:00           1.349057e+09             22484280.0   \n",
       "3 2012-10-01 03:00:00           1.349060e+09             22484340.0   \n",
       "4 2012-10-01 04:00:00           1.349064e+09             22484400.0   \n",
       "\n",
       "   unixtimestamp_hours  unixtimestamp_days  year month name_of_month  \\\n",
       "0             374736.0        15614.000000  2012    10           Oct   \n",
       "1             374737.0        15614.041667  2012    10           Oct   \n",
       "2             374738.0        15614.083333  2012    10           Oct   \n",
       "3             374739.0        15614.125000  2012    10           Oct   \n",
       "4             374740.0        15614.166667  2012    10           Oct   \n",
       "\n",
       "  day_of_month hour_clock name_of_weekday number_of_weekday  \\\n",
       "0           01         00          Monday                 1   \n",
       "1           01         01          Monday                 1   \n",
       "2           01         02          Monday                 1   \n",
       "3           01         03          Monday                 1   \n",
       "4           01         04          Monday                 1   \n",
       "\n",
       "  week_number_of_year year_month year_week_day   date_20days_after  \\\n",
       "0                  40     201210       2012401 2012-10-21 00:00:00   \n",
       "1                  40     201210       2012401 2012-10-21 01:00:00   \n",
       "2                  40     201210       2012401 2012-10-21 02:00:00   \n",
       "3                  40     201210       2012401 2012-10-21 03:00:00   \n",
       "4                  40     201210       2012401 2012-10-21 04:00:00   \n",
       "\n",
       "          running_full_dates  diff_days running_date  \n",
       "0 2021-12-01 23:55:51.257616     3329.0   2021-12-01  \n",
       "1 2021-12-01 23:55:51.257616     3329.0   2021-12-01  \n",
       "2 2021-12-01 23:55:51.257616     3329.0   2021-12-01  \n",
       "3 2021-12-01 23:55:51.257616     3329.0   2021-12-01  \n",
       "4 2021-12-01 23:55:51.257616     3329.0   2021-12-01  "
      ]
     },
     "execution_count": 49,
     "metadata": {},
     "output_type": "execute_result"
    }
   ],
   "source": [
    "dt = pd.DataFrame(pd.date_range('2012-10-01', periods=289, freq='60min')).rename(columns={0:'unique_date'})\n",
    "dfdates1 = generate_dates(dt.copy(),'unique_date')\n",
    "dfdates1.head()"
   ]
  },
  {
   "cell_type": "code",
   "execution_count": 4,
   "metadata": {},
   "outputs": [
    {
     "data": {
      "text/html": [
       "<div>\n",
       "<style scoped>\n",
       "    .dataframe tbody tr th:only-of-type {\n",
       "        vertical-align: middle;\n",
       "    }\n",
       "\n",
       "    .dataframe tbody tr th {\n",
       "        vertical-align: top;\n",
       "    }\n",
       "\n",
       "    .dataframe thead th {\n",
       "        text-align: right;\n",
       "    }\n",
       "</style>\n",
       "<table border=\"1\" class=\"dataframe\">\n",
       "  <thead>\n",
       "    <tr style=\"text-align: right;\">\n",
       "      <th></th>\n",
       "      <th>user_id</th>\n",
       "      <th>last_trx_date</th>\n",
       "      <th>unixtimestamp_seconds</th>\n",
       "      <th>unixtimestamp_minutes</th>\n",
       "      <th>unixtimestamp_hours</th>\n",
       "      <th>unixtimestamp_days</th>\n",
       "      <th>year</th>\n",
       "      <th>month</th>\n",
       "      <th>name_of_month</th>\n",
       "      <th>day_of_month</th>\n",
       "      <th>hour_clock</th>\n",
       "      <th>name_of_weekday</th>\n",
       "      <th>number_of_weekday</th>\n",
       "      <th>week_number_of_year</th>\n",
       "      <th>year_month</th>\n",
       "      <th>year_week_day</th>\n",
       "      <th>date_20days_after</th>\n",
       "      <th>running_full_dates</th>\n",
       "      <th>diff_days</th>\n",
       "      <th>running_date</th>\n",
       "    </tr>\n",
       "  </thead>\n",
       "  <tbody>\n",
       "    <tr>\n",
       "      <th>0</th>\n",
       "      <td>3057937196</td>\n",
       "      <td>2019-02-20</td>\n",
       "      <td>1.550621e+09</td>\n",
       "      <td>25843680.0</td>\n",
       "      <td>430728.0</td>\n",
       "      <td>17947.0</td>\n",
       "      <td>2019</td>\n",
       "      <td>02</td>\n",
       "      <td>Feb</td>\n",
       "      <td>20</td>\n",
       "      <td>00</td>\n",
       "      <td>Wednesday</td>\n",
       "      <td>3</td>\n",
       "      <td>07</td>\n",
       "      <td>201902</td>\n",
       "      <td>2019073</td>\n",
       "      <td>2019-03-12</td>\n",
       "      <td>2021-12-01 22:53:13.379880</td>\n",
       "      <td>996.0</td>\n",
       "      <td>2021-12-01</td>\n",
       "    </tr>\n",
       "    <tr>\n",
       "      <th>1</th>\n",
       "      <td>3725777565</td>\n",
       "      <td>2019-02-28</td>\n",
       "      <td>1.551312e+09</td>\n",
       "      <td>25855200.0</td>\n",
       "      <td>430920.0</td>\n",
       "      <td>17955.0</td>\n",
       "      <td>2019</td>\n",
       "      <td>02</td>\n",
       "      <td>Feb</td>\n",
       "      <td>28</td>\n",
       "      <td>00</td>\n",
       "      <td>Thursday</td>\n",
       "      <td>4</td>\n",
       "      <td>08</td>\n",
       "      <td>201902</td>\n",
       "      <td>2019084</td>\n",
       "      <td>2019-03-20</td>\n",
       "      <td>2021-12-01 22:53:13.379880</td>\n",
       "      <td>988.0</td>\n",
       "      <td>2021-12-01</td>\n",
       "    </tr>\n",
       "    <tr>\n",
       "      <th>2</th>\n",
       "      <td>3850602392</td>\n",
       "      <td>2019-02-26</td>\n",
       "      <td>1.551139e+09</td>\n",
       "      <td>25852320.0</td>\n",
       "      <td>430872.0</td>\n",
       "      <td>17953.0</td>\n",
       "      <td>2019</td>\n",
       "      <td>02</td>\n",
       "      <td>Feb</td>\n",
       "      <td>26</td>\n",
       "      <td>00</td>\n",
       "      <td>Tuesday</td>\n",
       "      <td>2</td>\n",
       "      <td>08</td>\n",
       "      <td>201902</td>\n",
       "      <td>2019082</td>\n",
       "      <td>2019-03-18</td>\n",
       "      <td>2021-12-01 22:53:13.379880</td>\n",
       "      <td>990.0</td>\n",
       "      <td>2021-12-01</td>\n",
       "    </tr>\n",
       "    <tr>\n",
       "      <th>3</th>\n",
       "      <td>4218672051</td>\n",
       "      <td>2019-02-28</td>\n",
       "      <td>1.551312e+09</td>\n",
       "      <td>25855200.0</td>\n",
       "      <td>430920.0</td>\n",
       "      <td>17955.0</td>\n",
       "      <td>2019</td>\n",
       "      <td>02</td>\n",
       "      <td>Feb</td>\n",
       "      <td>28</td>\n",
       "      <td>00</td>\n",
       "      <td>Thursday</td>\n",
       "      <td>4</td>\n",
       "      <td>08</td>\n",
       "      <td>201902</td>\n",
       "      <td>2019084</td>\n",
       "      <td>2019-03-20</td>\n",
       "      <td>2021-12-01 22:53:13.379880</td>\n",
       "      <td>988.0</td>\n",
       "      <td>2021-12-01</td>\n",
       "    </tr>\n",
       "    <tr>\n",
       "      <th>4</th>\n",
       "      <td>4300836811</td>\n",
       "      <td>2019-01-17</td>\n",
       "      <td>1.547683e+09</td>\n",
       "      <td>25794720.0</td>\n",
       "      <td>429912.0</td>\n",
       "      <td>17913.0</td>\n",
       "      <td>2019</td>\n",
       "      <td>01</td>\n",
       "      <td>Jan</td>\n",
       "      <td>17</td>\n",
       "      <td>00</td>\n",
       "      <td>Thursday</td>\n",
       "      <td>4</td>\n",
       "      <td>02</td>\n",
       "      <td>201901</td>\n",
       "      <td>2019024</td>\n",
       "      <td>2019-02-06</td>\n",
       "      <td>2021-12-01 22:53:13.379880</td>\n",
       "      <td>1030.0</td>\n",
       "      <td>2021-12-01</td>\n",
       "    </tr>\n",
       "  </tbody>\n",
       "</table>\n",
       "</div>"
      ],
      "text/plain": [
       "      user_id last_trx_date  unixtimestamp_seconds  unixtimestamp_minutes  \\\n",
       "0  3057937196    2019-02-20           1.550621e+09             25843680.0   \n",
       "1  3725777565    2019-02-28           1.551312e+09             25855200.0   \n",
       "2  3850602392    2019-02-26           1.551139e+09             25852320.0   \n",
       "3  4218672051    2019-02-28           1.551312e+09             25855200.0   \n",
       "4  4300836811    2019-01-17           1.547683e+09             25794720.0   \n",
       "\n",
       "   unixtimestamp_hours  unixtimestamp_days  year month name_of_month  \\\n",
       "0             430728.0             17947.0  2019    02           Feb   \n",
       "1             430920.0             17955.0  2019    02           Feb   \n",
       "2             430872.0             17953.0  2019    02           Feb   \n",
       "3             430920.0             17955.0  2019    02           Feb   \n",
       "4             429912.0             17913.0  2019    01           Jan   \n",
       "\n",
       "  day_of_month hour_clock name_of_weekday number_of_weekday  \\\n",
       "0           20         00       Wednesday                 3   \n",
       "1           28         00        Thursday                 4   \n",
       "2           26         00         Tuesday                 2   \n",
       "3           28         00        Thursday                 4   \n",
       "4           17         00        Thursday                 4   \n",
       "\n",
       "  week_number_of_year year_month year_week_day date_20days_after  \\\n",
       "0                  07     201902       2019073        2019-03-12   \n",
       "1                  08     201902       2019084        2019-03-20   \n",
       "2                  08     201902       2019082        2019-03-18   \n",
       "3                  08     201902       2019084        2019-03-20   \n",
       "4                  02     201901       2019024        2019-02-06   \n",
       "\n",
       "          running_full_dates  diff_days running_date  \n",
       "0 2021-12-01 22:53:13.379880      996.0   2021-12-01  \n",
       "1 2021-12-01 22:53:13.379880      988.0   2021-12-01  \n",
       "2 2021-12-01 22:53:13.379880      990.0   2021-12-01  \n",
       "3 2021-12-01 22:53:13.379880      988.0   2021-12-01  \n",
       "4 2021-12-01 22:53:13.379880     1030.0   2021-12-01  "
      ]
     },
     "execution_count": 4,
     "metadata": {},
     "output_type": "execute_result"
    }
   ],
   "source": [
    "dfdates = generate_dates(test_data.copy(),'last_trx_date')\n",
    "dfdates.head()"
   ]
  },
  {
   "cell_type": "code",
   "execution_count": 467,
   "metadata": {},
   "outputs": [
    {
     "data": {
      "text/plain": [
       "(2021, 48, 3)"
      ]
     },
     "metadata": {},
     "output_type": "display_data"
    },
    {
     "data": {
      "text/plain": [
       "3"
      ]
     },
     "metadata": {},
     "output_type": "display_data"
    },
    {
     "data": {
      "text/plain": [
       "'2021-12-01'"
      ]
     },
     "metadata": {},
     "output_type": "display_data"
    },
    {
     "data": {
      "text/plain": [
       "datetime.date(2021, 12, 1)"
      ]
     },
     "metadata": {},
     "output_type": "display_data"
    },
    {
     "data": {
      "text/plain": [
       "'Wed Dec  1 00:00:00 2021'"
      ]
     },
     "metadata": {},
     "output_type": "display_data"
    }
   ],
   "source": [
    "display(datetime.date(2021, 12, 1).isoweekday())\n",
    "display(datetime.date(2021, 12, 1).isoformat())\n",
    "display(datetime.date(2021, 12, 1).ctime())"
   ]
  },
  {
   "cell_type": "code",
   "execution_count": 427,
   "metadata": {},
   "outputs": [
    {
     "data": {
      "text/plain": [
       "(2021, 48, 3)"
      ]
     },
     "metadata": {},
     "output_type": "display_data"
    },
    {
     "data": {
      "text/plain": [
       "3"
      ]
     },
     "metadata": {},
     "output_type": "display_data"
    },
    {
     "data": {
      "text/plain": [
       "'2021-12-01T00:00:00'"
      ]
     },
     "metadata": {},
     "output_type": "display_data"
    },
    {
     "data": {
      "text/plain": [
       "datetime.datetime(2021, 12, 1, 0, 0)"
      ]
     },
     "metadata": {},
     "output_type": "display_data"
    },
    {
     "data": {
      "text/plain": [
       "'Wed Dec  1 00:00:00 2021'"
      ]
     },
     "metadata": {},
     "output_type": "display_data"
    }
   ],
   "source": [
    "display(datetime.datetime(2021, 12, 1).isocalendar())\n",
    "display(datetime.datetime(2021, 12, 1).isoweekday())\n",
    "display(datetime.datetime(2021, 12, 1).isoformat())\n",
    "display(datetime.datetime.fromisoformat(datetime.datetime(2021, 12, 1).isoformat()))\n",
    "display(datetime.datetime(2021, 12, 1).ctime())"
   ]
  },
  {
   "cell_type": "markdown",
   "metadata": {},
   "source": [
    "# Python - MySQL Connector"
   ]
  },
  {
   "cell_type": "code",
   "execution_count": 7,
   "metadata": {},
   "outputs": [],
   "source": [
    "from getpass import getpass\n",
    "import mysql.connector\n",
    "import pymysql\n",
    "import sqlalchemy"
   ]
  },
  {
   "cell_type": "code",
   "execution_count": 14,
   "metadata": {},
   "outputs": [
    {
     "name": "stdout",
     "output_type": "stream",
     "text": [
      "enter username:esisram\n",
      "Enter Password:········\n",
      "enter username:esisram\n",
      "Enter Password:········\n"
     ]
    },
    {
     "data": {
      "text/plain": [
       "1"
      ]
     },
     "execution_count": 14,
     "metadata": {},
     "output_type": "execute_result"
    }
   ],
   "source": [
    "#create database\n",
    "#cara 1\n",
    "mydb = mysql.connector.connect(\n",
    "  host=\"127.0.0.1\",\n",
    "  user=input(\"enter username:\"),\n",
    "  password=getpass(\"Enter Password:\"),\n",
    ")\n",
    "mycursor = mydb.cursor()\n",
    "mycursor.execute(\"CREATE DATABASE if not exists pythonDb\")\n",
    "\n",
    "#cara 2\n",
    "connection = pymysql.connect(\n",
    "  host=\"127.0.0.1\",\n",
    "  user=input(\"enter username:\"),\n",
    "  password=getpass(\"Enter Password:\"),\n",
    "  database=\"pythonDb\"    \n",
    ")\n",
    "mycursor1 = connection.cursor()\n",
    "mycursor1.execute(\"CREATE DATABASE if not exists pythonDb1\")"
   ]
  },
  {
   "cell_type": "code",
   "execution_count": 15,
   "metadata": {},
   "outputs": [
    {
     "name": "stdout",
     "output_type": "stream",
     "text": [
      "('information_schema',)\n",
      "('mysql',)\n",
      "('performance_schema',)\n",
      "('pythondb',)\n",
      "('pythondb1',)\n",
      "('sakila',)\n",
      "('sales_distribution',)\n",
      "('sys',)\n",
      "('world',)\n"
     ]
    }
   ],
   "source": [
    "mycursor.execute(\"SHOW DATABASES\")\n",
    "for x in mycursor:\n",
    "    print(x)"
   ]
  },
  {
   "cell_type": "code",
   "execution_count": 16,
   "metadata": {},
   "outputs": [
    {
     "name": "stdout",
     "output_type": "stream",
     "text": [
      "('information_schema',)\n",
      "('mysql',)\n",
      "('performance_schema',)\n",
      "('pythondb',)\n",
      "('pythondb1',)\n",
      "('sakila',)\n",
      "('sales_distribution',)\n",
      "('sys',)\n",
      "('world',)\n"
     ]
    }
   ],
   "source": [
    "mycursor1.execute(\"SHOW DATABASES\")\n",
    "for x in mycursor1:\n",
    "    print(x)"
   ]
  },
  {
   "cell_type": "code",
   "execution_count": 17,
   "metadata": {},
   "outputs": [],
   "source": [
    "mydb.close()\n",
    "connection.close()"
   ]
  },
  {
   "cell_type": "code",
   "execution_count": 18,
   "metadata": {},
   "outputs": [
    {
     "name": "stdout",
     "output_type": "stream",
     "text": [
      "enter username:esisram\n",
      "Enter Password:········\n",
      "enter username:esisram\n",
      "Enter Password:········\n"
     ]
    }
   ],
   "source": [
    "#directly connect to the database selected\n",
    "#cara 1\n",
    "mydb = pymysql.connect(\n",
    "  host=\"127.0.0.1\",\n",
    "  user=input(\"enter username:\"),\n",
    "  password=getpass(\"Enter Password:\"),\n",
    "  database=\"pythonDb\"    \n",
    ")\n",
    "#create table customer\n",
    "mycursor = mydb.cursor()\n",
    "mycursor.execute('drop table if exists customers')\n",
    "mycursor.execute(\"\"\"\n",
    "Create table if not exists customers (\n",
    "name varchar(255),\n",
    "address varchar(255),\n",
    "test integer\n",
    ")\"\"\")\n",
    "\n",
    "#cara 2\n",
    "connection = mysql.connector.connect(\n",
    "  host=\"127.0.0.1\",\n",
    "  user=input(\"enter username:\"),\n",
    "  password=getpass(\"Enter Password:\"),\n",
    "  database=\"pythonDb1\"    \n",
    ")\n",
    "#create table customer\n",
    "mycursor1 = connection.cursor(buffered=True)\n",
    "mycursor1.execute('drop table if exists customers')\n",
    "mycursor1.execute(\"\"\"\n",
    "Create table if not exists customers (\n",
    "name varchar(255),\n",
    "address varchar(255),\n",
    "test integer\n",
    ")\"\"\")"
   ]
  },
  {
   "cell_type": "code",
   "execution_count": 19,
   "metadata": {},
   "outputs": [
    {
     "name": "stdout",
     "output_type": "stream",
     "text": [
      "('customers',)\n"
     ]
    }
   ],
   "source": [
    "mycursor.execute(\"show tables\")\n",
    "for x in mycursor:\n",
    "    print(x)"
   ]
  },
  {
   "cell_type": "code",
   "execution_count": 20,
   "metadata": {},
   "outputs": [
    {
     "data": {
      "text/plain": [
       "0"
      ]
     },
     "execution_count": 20,
     "metadata": {},
     "output_type": "execute_result"
    }
   ],
   "source": [
    "mycursor.execute(\"alter TABLE customers add column id int auto_increment primary key\")"
   ]
  },
  {
   "cell_type": "code",
   "execution_count": 21,
   "metadata": {},
   "outputs": [
    {
     "name": "stdout",
     "output_type": "stream",
     "text": [
      "('customers', 'CREATE TABLE `customers` (\\n  `name` varchar(255) DEFAULT NULL,\\n  `address` varchar(255) DEFAULT NULL,\\n  `test` int DEFAULT NULL,\\n  `id` int NOT NULL AUTO_INCREMENT,\\n  PRIMARY KEY (`id`)\\n) ENGINE=InnoDB DEFAULT CHARSET=utf8mb4 COLLATE=utf8mb4_0900_ai_ci')\n"
     ]
    }
   ],
   "source": [
    "mycursor.execute('show create table customers')\n",
    "for x in mycursor:\n",
    "    print(x)"
   ]
  },
  {
   "cell_type": "code",
   "execution_count": 22,
   "metadata": {},
   "outputs": [
    {
     "data": {
      "text/plain": [
       "0"
      ]
     },
     "execution_count": 22,
     "metadata": {},
     "output_type": "execute_result"
    }
   ],
   "source": [
    "mycursor.execute(\"alter TABLE customers drop test\")"
   ]
  },
  {
   "cell_type": "markdown",
   "metadata": {},
   "source": [
    "Insert Into"
   ]
  },
  {
   "cell_type": "code",
   "execution_count": 23,
   "metadata": {},
   "outputs": [
    {
     "name": "stdout",
     "output_type": "stream",
     "text": [
      "1 record inserted\n"
     ]
    }
   ],
   "source": [
    "sql = 'insert into customers (name,address) values(\"esis\",\"krisan 21\")'\n",
    "mycursor.execute(sql)\n",
    "mydb.commit()\n",
    "print(mycursor.rowcount,'record inserted')"
   ]
  },
  {
   "cell_type": "code",
   "execution_count": 24,
   "metadata": {},
   "outputs": [
    {
     "name": "stdout",
     "output_type": "stream",
     "text": [
      "1 record inserted\n"
     ]
    }
   ],
   "source": [
    "sql = 'insert into customers (name,address) values (%s,%s)'\n",
    "val = ('astro','aster 21')\n",
    "mycursor.execute(sql,val)\n",
    "mydb.commit()\n",
    "print(mycursor.rowcount,'record inserted')"
   ]
  },
  {
   "cell_type": "code",
   "execution_count": 25,
   "metadata": {},
   "outputs": [
    {
     "name": "stdout",
     "output_type": "stream",
     "text": [
      "3 record inserted\n"
     ]
    }
   ],
   "source": [
    "sql = \"insert into customers (name,address) values ('aris','arrahman 21'),('asri','france 21'),('papah','japang 21')\"\n",
    "mycursor.execute(sql)\n",
    "mydb.commit()\n",
    "print(mycursor.rowcount,'record inserted')"
   ]
  },
  {
   "cell_type": "code",
   "execution_count": 26,
   "metadata": {},
   "outputs": [
    {
     "name": "stdout",
     "output_type": "stream",
     "text": [
      "1 record inserted\n"
     ]
    }
   ],
   "source": [
    "sql = 'insert into customers (name,address) values (%s,%s)'\n",
    "val = [('dera','kamboja 21')]\n",
    "mycursor.executemany(sql,val)\n",
    "mydb.commit()\n",
    "print(mycursor.rowcount,'record inserted')"
   ]
  },
  {
   "cell_type": "markdown",
   "metadata": {},
   "source": [
    "select"
   ]
  },
  {
   "cell_type": "code",
   "execution_count": 27,
   "metadata": {},
   "outputs": [
    {
     "data": {
      "text/plain": [
       "6"
      ]
     },
     "execution_count": 27,
     "metadata": {},
     "output_type": "execute_result"
    }
   ],
   "source": [
    "mycursor.execute(\"create table if not exists customer_copy as select * from customers\")"
   ]
  },
  {
   "cell_type": "code",
   "execution_count": 28,
   "metadata": {},
   "outputs": [
    {
     "name": "stdout",
     "output_type": "stream",
     "text": [
      "1\n"
     ]
    }
   ],
   "source": [
    "mycursor.execute('delete from customer_copy where address like \"kam%\"')\n",
    "mydb.commit()\n",
    "print(mycursor.rowcount)"
   ]
  },
  {
   "cell_type": "code",
   "execution_count": 29,
   "metadata": {},
   "outputs": [
    {
     "name": "stdout",
     "output_type": "stream",
     "text": [
      "1\n"
     ]
    }
   ],
   "source": [
    "sql = 'delete from customers where address = %s'\n",
    "adr = ('aster 21',)\n",
    "mycursor.execute(sql,adr)\n",
    "mydb.commit()\n",
    "print(mycursor.rowcount)"
   ]
  },
  {
   "cell_type": "code",
   "execution_count": 30,
   "metadata": {},
   "outputs": [
    {
     "name": "stdout",
     "output_type": "stream",
     "text": [
      "1\n"
     ]
    }
   ],
   "source": [
    "sql = 'update customers set address = %s where address = %s'\n",
    "adr = [('krisan 22', 'krisan 21'),('aster 22', 'aster 21')]\n",
    "mycursor.executemany(sql,adr)\n",
    "mydb.commit()\n",
    "print(mycursor.rowcount)"
   ]
  },
  {
   "cell_type": "code",
   "execution_count": 31,
   "metadata": {},
   "outputs": [
    {
     "name": "stdout",
     "output_type": "stream",
     "text": [
      "(('esis', 'krisan 21', 1), ('astro', 'aster 21', 2), ('aris', 'arrahman 21', 3), ('asri', 'france 21', 4), ('papah', 'japang 21', 5))\n"
     ]
    }
   ],
   "source": [
    "mycursor.execute(\"select * from customer_copy\")\n",
    "myresult = mycursor.fetchall()\n",
    "print(myresult)"
   ]
  },
  {
   "cell_type": "code",
   "execution_count": 32,
   "metadata": {},
   "outputs": [
    {
     "data": {
      "text/html": [
       "<div>\n",
       "<style scoped>\n",
       "    .dataframe tbody tr th:only-of-type {\n",
       "        vertical-align: middle;\n",
       "    }\n",
       "\n",
       "    .dataframe tbody tr th {\n",
       "        vertical-align: top;\n",
       "    }\n",
       "\n",
       "    .dataframe thead th {\n",
       "        text-align: right;\n",
       "    }\n",
       "</style>\n",
       "<table border=\"1\" class=\"dataframe\">\n",
       "  <thead>\n",
       "    <tr style=\"text-align: right;\">\n",
       "      <th></th>\n",
       "      <th>name</th>\n",
       "      <th>address</th>\n",
       "      <th>ID</th>\n",
       "      <th>running_date</th>\n",
       "      <th>running_date1</th>\n",
       "    </tr>\n",
       "  </thead>\n",
       "  <tbody>\n",
       "    <tr>\n",
       "      <th>0</th>\n",
       "      <td>esis</td>\n",
       "      <td>krisan 21</td>\n",
       "      <td>1</td>\n",
       "      <td>2021-12-01</td>\n",
       "      <td>2021-12-01 22:54:30.396079</td>\n",
       "    </tr>\n",
       "    <tr>\n",
       "      <th>1</th>\n",
       "      <td>astro</td>\n",
       "      <td>aster 21</td>\n",
       "      <td>2</td>\n",
       "      <td>2021-12-01</td>\n",
       "      <td>2021-12-01 22:54:30.396079</td>\n",
       "    </tr>\n",
       "    <tr>\n",
       "      <th>2</th>\n",
       "      <td>aris</td>\n",
       "      <td>arrahman 21</td>\n",
       "      <td>3</td>\n",
       "      <td>2021-12-01</td>\n",
       "      <td>2021-12-01 22:54:30.396079</td>\n",
       "    </tr>\n",
       "    <tr>\n",
       "      <th>3</th>\n",
       "      <td>asri</td>\n",
       "      <td>france 21</td>\n",
       "      <td>4</td>\n",
       "      <td>2021-12-01</td>\n",
       "      <td>2021-12-01 22:54:30.396079</td>\n",
       "    </tr>\n",
       "    <tr>\n",
       "      <th>4</th>\n",
       "      <td>papah</td>\n",
       "      <td>japang 21</td>\n",
       "      <td>5</td>\n",
       "      <td>2021-12-01</td>\n",
       "      <td>2021-12-01 22:54:30.396079</td>\n",
       "    </tr>\n",
       "  </tbody>\n",
       "</table>\n",
       "</div>"
      ],
      "text/plain": [
       "    name      address  ID running_date              running_date1\n",
       "0   esis    krisan 21   1   2021-12-01 2021-12-01 22:54:30.396079\n",
       "1  astro     aster 21   2   2021-12-01 2021-12-01 22:54:30.396079\n",
       "2   aris  arrahman 21   3   2021-12-01 2021-12-01 22:54:30.396079\n",
       "3   asri    france 21   4   2021-12-01 2021-12-01 22:54:30.396079\n",
       "4  papah    japang 21   5   2021-12-01 2021-12-01 22:54:30.396079"
      ]
     },
     "execution_count": 32,
     "metadata": {},
     "output_type": "execute_result"
    }
   ],
   "source": [
    "df = pd.DataFrame(myresult).rename(columns={0:'name',1:'address',2:'ID'})\n",
    "df['running_date'] = datetime.date.today()\n",
    "df['running_date1'] = datetime.datetime.now()\n",
    "df"
   ]
  },
  {
   "cell_type": "code",
   "execution_count": 33,
   "metadata": {},
   "outputs": [],
   "source": [
    "mydb.close()\n",
    "connection.close()"
   ]
  },
  {
   "cell_type": "code",
   "execution_count": 35,
   "metadata": {},
   "outputs": [
    {
     "name": "stdout",
     "output_type": "stream",
     "text": [
      "enter username:esisram\n",
      "Enter Password:········\n"
     ]
    }
   ],
   "source": [
    "# insert pandas dataframe into MySQL\n",
    "from sqlalchemy import create_engine\n",
    "engine = create_engine(\"mysql+pymysql://{user}:{pw}@{localhost}/{db}\"\n",
    "                       .format(user=input(\"enter username:\"),\n",
    "                               localhost=\"127.0.0.1\",\n",
    "                               pw=getpass(\"Enter Password:\"),\n",
    "                               db=\"pythonDb\"))\n",
    "df.to_sql(name='customer_copy',con=engine, if_exists='replace')"
   ]
  },
  {
   "cell_type": "code",
   "execution_count": null,
   "metadata": {},
   "outputs": [],
   "source": [
    "# insert pandas dataframe into MySQL\n",
    "from sqlalchemy import create_engine\n",
    "engine = create_engine(\"mysql+mysqlconnector://{user}:{pw}@{localhost}/{db}\"\n",
    "                       .format(user=input(\"enter username:\"),\n",
    "                               localhost=\"127.0.0.1\",\n",
    "                               pw=getpass(\"Enter Password:\"),\n",
    "                               db=\"pythonDb\"))\n",
    "df.to_sql(name='customer_copy',con=engine, if_exists='replace')"
   ]
  },
  {
   "cell_type": "markdown",
   "metadata": {},
   "source": [
    "# python - monggodb"
   ]
  },
  {
   "cell_type": "code",
   "execution_count": 37,
   "metadata": {},
   "outputs": [],
   "source": [
    "import pymongo"
   ]
  },
  {
   "cell_type": "code",
   "execution_count": null,
   "metadata": {},
   "outputs": [],
   "source": [
    "myclient = pymongo.MongoClient(\"mongodb://localhost:27017/\")\n",
    "mydb = myclient[\"mydatabase\"]"
   ]
  },
  {
   "cell_type": "code",
   "execution_count": null,
   "metadata": {},
   "outputs": [],
   "source": []
  },
  {
   "cell_type": "code",
   "execution_count": null,
   "metadata": {},
   "outputs": [],
   "source": []
  },
  {
   "cell_type": "code",
   "execution_count": null,
   "metadata": {},
   "outputs": [],
   "source": []
  },
  {
   "cell_type": "code",
   "execution_count": null,
   "metadata": {},
   "outputs": [],
   "source": []
  },
  {
   "cell_type": "code",
   "execution_count": null,
   "metadata": {},
   "outputs": [],
   "source": []
  }
 ],
 "metadata": {
  "kernelspec": {
   "display_name": "Python 3",
   "language": "python",
   "name": "python3"
  },
  "language_info": {
   "codemirror_mode": {
    "name": "ipython",
    "version": 3
   },
   "file_extension": ".py",
   "mimetype": "text/x-python",
   "name": "python",
   "nbconvert_exporter": "python",
   "pygments_lexer": "ipython3",
   "version": "3.8.8"
  }
 },
 "nbformat": 4,
 "nbformat_minor": 4
}
